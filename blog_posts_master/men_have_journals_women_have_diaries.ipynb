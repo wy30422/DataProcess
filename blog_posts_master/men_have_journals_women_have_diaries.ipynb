{
 "cells": [
  {
   "cell_type": "markdown",
   "metadata": {},
   "source": [
    "Last night I found an old Moleskine notebook I had hidden under some papers on my desk. As I looked through it, there were a few pages of random projects I worked on once. Thinking of my girlfriend's recent nights spent writing in her diary, I decided to use the notebook as a journal. Then, I noticed something, which you might see in my previous sentence. My girlfriend has a *diary*, while I have a *journal*. Women write in diaries, men write in journals. Diaries are associated with pubescent girls obsessed with boys and what Jenny said about Tammy. Journals are associated with Ernest Hemingway and Jack Kerouac.\n",
    "\n",
    "There are a lot of things like this we never notice. I try my best to be mindful. Once, we were on our way out and my girlfriend was slow to finish her drink. I almost said \"Come on, be a man!\" without thinking much about it. But, I caught myself, and said \"Be a woman!\" to which she responded with a big gulp of her beer and a kiss for me.\n",
    "\n",
    "I'll leave you with this related video."
   ]
  },
  {
   "cell_type": "code",
   "execution_count": 4,
   "metadata": {
    "collapsed": false
   },
   "outputs": [
    {
     "data": {
      "text/html": [
       "\n",
       "        <iframe\n",
       "            width=\"650\"\n",
       "            height=\"350\"\n",
       "            src=\"https://www.youtube.com/embed/XjJQBjWYDTs\"\n",
       "            frameborder=\"0\"\n",
       "            allowfullscreen\n",
       "        ></iframe>\n",
       "        "
      ],
      "text/plain": [
       "<IPython.lib.display.IFrame at 0x1048962b0>"
      ]
     },
     "execution_count": 4,
     "metadata": {},
     "output_type": "execute_result"
    }
   ],
   "source": [
    "from IPython.display import IFrame\n",
    "IFrame('https://www.youtube.com/embed/XjJQBjWYDTs', 650, 350)"
   ]
  }
 ],
 "metadata": {
  "kernelspec": {
   "display_name": "Python 3",
   "language": "python",
   "name": "python3"
  },
  "language_info": {
   "codemirror_mode": {
    "name": "ipython",
    "version": 3
   },
   "file_extension": ".py",
   "mimetype": "text/x-python",
   "name": "python",
   "nbconvert_exporter": "python",
   "pygments_lexer": "ipython3",
   "version": "3.4.3"
  }
 },
 "nbformat": 4,
 "nbformat_minor": 0
}
